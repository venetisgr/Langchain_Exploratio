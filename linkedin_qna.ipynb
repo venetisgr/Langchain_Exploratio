{
 "cells": [
  {
   "cell_type": "code",
   "execution_count": 1,
   "metadata": {},
   "outputs": [
    {
     "data": {
      "text/plain": [
       "['OPENAI_API_KEY',\n",
       " 'PINECONE_API_KEY',\n",
       " 'PINECONE_API_ENV',\n",
       " 'PROXYCURL_API_KEY',\n",
       " 'SERPAPI_API_KEY']"
      ]
     },
     "execution_count": 1,
     "metadata": {},
     "output_type": "execute_result"
    }
   ],
   "source": [
    "from langchain import PromptTemplate\n",
    "from langchain.chat_models import ChatOpenAI\n",
    "from langchain.chains import LLMChain\n",
    "\n",
    "from agents.linkedin_lookup_agent import linkedin_url_lookup\n",
    "from utils.linkedin_info_extract import scrape_linkedin_profile\n",
    "\n",
    "from tools.tools import get_linkedin_profile_url\n",
    "from utils.output_parsers import person_intel_parser\n",
    "\n",
    "\n",
    "\n",
    "from key_storage import key_dict\n",
    "list(key_dict.keys())"
   ]
  },
  {
   "cell_type": "code",
   "execution_count": 2,
   "metadata": {},
   "outputs": [
    {
     "name": "stdout",
     "output_type": "stream",
     "text": [
      "{'public_identifier': 'venetis-pallikaras', 'first_name': 'Venetis', 'last_name': 'Pallikaras', 'occupation': 'Graduate Teaching Assistant at Georgia Institute of Technology', 'headline': 'Data Science | Machine Learning', 'summary': 'no info', 'country_full_name': 'United States of America', 'city': 'Washington DC-Baltimore Area', 'experiences': [{'starts_at': {'day': 1, 'month': 8, 'year': 2022}, 'ends_at': None, 'company': 'Georgia Institute of Technology', 'title': 'Graduate Teaching Assistant', 'description': 'GTA for the course CS 7641-Machine Learning', 'location': 'Atlanta, Georgia, United States'}, {'starts_at': {'day': 1, 'month': 5, 'year': 2022}, 'ends_at': {'day': 31, 'month': 8, 'year': 2022}, 'company': 'GE', 'title': 'Intern', 'description': 'Summer Practicum', 'location': 'Virtual'}, {'starts_at': {'day': 1, 'month': 7, 'year': 2018}, 'ends_at': {'day': 30, 'month': 9, 'year': 2018}, 'company': 'NCSR \"DEMOKRITOS\"\\u200b', 'title': 'Intern', 'description': '•\\tIntern in Institute of Nanoscience and Nanotechnology\\n•\\tElectrical characterization of memristive devices (memristors)\\n•\\tAnalyzed the behavior of memristors during consecutive read and write tests\\n•\\tExecuted retention measurements of memristors\\n•\\tAnalyzed the behavior of memristors under various temperatures\\n•\\tAnalyzed the analog behavior of memristors', 'location': 'Athens, Greece'}], 'languages': ['English', 'Greek'], 'accomplishment_courses': 'no info', 'accomplishment_projects': 'no info', 'volunteer_work': 'no info', 'certifications': [{'name': 'Mastering data visualization in D3.js [2020 UPDATE]', 'authority': 'Udemy'}, {'name': 'Build Responsive Real World Websites with HTML5 and CSS3', 'authority': 'Udemy'}, {'name': 'JavaScript (Basic) Certificate', 'authority': 'HackerRank'}, {'name': 'Learn and Understand D3.js for Data Visualization', 'authority': 'Udemy'}, {'name': 'The Complete JavaScript Course 2020: From Zero to Expert!', 'authority': 'Udemy'}, {'name': 'Taming Big Data with Apache Spark and Python Hands On', 'authority': 'Udemy'}, {'name': 'Big Data Fundamentals with PySpark', 'authority': 'DataCamp'}, {'name': 'Big Data with PySpark Track', 'authority': 'DataCamp'}, {'name': 'Building Recommendation Engines with PySpark', 'authority': 'DataCamp'}, {'name': 'Cleaning Data with PySpark', 'authority': 'DataCamp'}, {'name': 'Feature Engineering with PySpark', 'authority': 'DataCamp'}, {'name': 'Introduction to PySpark', 'authority': 'DataCamp'}, {'name': 'Machine Learning with PySpark', 'authority': 'DataCamp'}, {'name': 'Introduction to Machine Learning with Tensorflow', 'authority': 'Udacity'}, {'name': 'Data Analyst Nanodegree', 'authority': 'Udacity'}, {'name': 'The Complete SQL Bootcamp', 'authority': 'Udemy'}, {'name': 'Verified International Academic Qualifications', 'authority': 'World Education Services'}, {'name': 'Introduction to Machine Learning with Tensorflow', 'authority': 'Udacity'}, {'name': 'Introduction to TensorFlow for Artificial Intelligence, Machine Learning, and Deep Learning', 'authority': 'Coursera'}, {'name': 'Extreme Gradient Boosting with XGBoost Course', 'authority': 'DataCamp'}, {'name': 'Deep Learning Fundamentals with Keras', 'authority': 'edX'}, {'name': 'Improving Deep Neural Networks: Hyperparameter tuning, Regularization and Optimization', 'authority': 'Coursera'}, {'name': 'Neural Networks and Deep Learning', 'authority': 'Coursera'}, {'name': 'Complete Python Bootcamp: Go from zero to hero in Python 3', 'authority': 'Udemy'}, {'name': 'Deep Learning Prerequisites: Linear Regression in Python', 'authority': 'Udemy'}, {'name': 'Deep Learning Prerequisites: Logistic Regression in Python', 'authority': 'Udemy'}, {'name': 'Deep Learning Prerequisites: The Numpy Stack in Python', 'authority': 'Udemy'}, {'name': 'Assembly Language Adventures: Complete Course', 'authority': 'Udemy'}, {'name': 'ARM Cortex-M Assembly Programming', 'authority': 'Udemy'}, {'name': 'C++: From Beginner to Expert', 'authority': 'Udemy'}, {'name': 'C++ Tutorial for Complete Beginners', 'authority': 'Udemy'}, {'name': 'Learn Advanced C++ Programming', 'authority': 'Udemy'}, {'name': 'Matlab Programming for Engineers', 'authority': 'Coursovie Training Inc.'}, {'name': 'AWS Certified Cloud Practitioner', 'authority': 'Amazon Web Services (AWS)'}, {'name': 'IELTS Academic 8.0/9.0', 'authority': 'IELTS Official'}], 'phone_numbers': 'no info', 'personal_emails': 'no info', 'skills': 'no info'}\n",
      "\n",
      "{'public_identifier': 'venetis-pallikaras', 'profile_pic_url': 'https://media.licdn.com/dms/image/C4D03AQFnf7IY3H_GXA/profile-displayphoto-shrink_800_800/0/1644887767960?e=2147483647&v=beta&t=ssqmur0gRfDlkv8Sdh0IzrdXFYppSpzbTD2OmPfZFc0', 'background_cover_image_url': 'https://media.licdn.com/dms/image/C5616AQFqe_7WnSoU0A/profile-displaybackgroundimage-shrink_200_800/0/1557690399954?e=2147483647&v=beta&t=XqBWEOVSE2Ovdwaq4wQsnNhxXUn1nCeDp0EqGEGn26A', 'first_name': 'Venetis', 'last_name': 'Pallikaras', 'full_name': 'Venetis Pallikaras', 'follower_count': 771, 'occupation': 'Graduate Teaching Assistant at Georgia Institute of Technology', 'headline': 'Data Science | Machine Learning', 'summary': None, 'country': 'US', 'country_full_name': 'United States of America', 'city': 'Washington DC-Baltimore Area', 'state': None, 'experiences': [{'starts_at': {'day': 1, 'month': 8, 'year': 2022}, 'ends_at': None, 'company': 'Georgia Institute of Technology', 'company_linkedin_profile_url': 'https://www.linkedin.com/company/georgia-institute-of-technology', 'title': 'Graduate Teaching Assistant', 'description': 'GTA for the course CS 7641-Machine Learning', 'location': 'Atlanta, Georgia, United States', 'logo_url': 'https://media.licdn.com/dms/image/C4E0BAQFuhLQoh5_7yA/company-logo_100_100/0/1640110531895?e=2147483647&v=beta&t=_hJTtPCUXWkojfBu5oXxeQ13fZnHgc5doXdP3Uv56T8'}, {'starts_at': {'day': 1, 'month': 5, 'year': 2022}, 'ends_at': {'day': 31, 'month': 8, 'year': 2022}, 'company': 'GE', 'company_linkedin_profile_url': 'https://www.linkedin.com/company/ge', 'title': 'Intern', 'description': 'Summer Practicum', 'location': 'Virtual', 'logo_url': 'https://media.licdn.com/dms/image/C4D0BAQFrroag2tJkkA/company-logo_100_100/0/1627342325503?e=2147483647&v=beta&t=EWOYN9Kh2xmxD872MSlzc5DmiVnQq3YkTIISShLC5SA'}, {'starts_at': {'day': 1, 'month': 7, 'year': 2018}, 'ends_at': {'day': 30, 'month': 9, 'year': 2018}, 'company': 'NCSR \"DEMOKRITOS\"\\u200b', 'company_linkedin_profile_url': 'https://www.linkedin.com/company/ncsr-demokritos-', 'title': 'Intern', 'description': '•\\tIntern in Institute of Nanoscience and Nanotechnology\\n•\\tElectrical characterization of memristive devices (memristors)\\n•\\tAnalyzed the behavior of memristors during consecutive read and write tests\\n•\\tExecuted retention measurements of memristors\\n•\\tAnalyzed the behavior of memristors under various temperatures\\n•\\tAnalyzed the analog behavior of memristors', 'location': 'Athens, Greece', 'logo_url': 'https://media.licdn.com/dms/image/C560BAQE7d9u6pjrahQ/company-logo_100_100/0/1519888728507?e=2147483647&v=beta&t=AKZVnKuTbJRp_a9tDE2LTAc8Nhak8grlCE09rC-VHw0'}], 'education': [{'starts_at': {'day': 1, 'month': 1, 'year': 2021}, 'ends_at': {'day': 31, 'month': 12, 'year': 2022}, 'field_of_study': 'Computational Track', 'degree_name': 'Master of Science in Analytics', 'school': 'Georgia Institute of Technology', 'school_linkedin_profile_url': 'https://www.linkedin.com/school/georgia-institute-of-technology/', 'description': 'Computing for Data Analytics, Introduction to Analytics Modeling, Data and Visual Analytics,\\nRegression Analysis, Deep Learning for Text Data – Fall 2021\\n\\nNatural Language Processing, Machine Learning, Web Search and Text Mining,\\nData Analytics in Business, Business Analytics Practicum – Spring 2022', 'logo_url': 'https://media.licdn.com/dms/image/C4E0BAQFuhLQoh5_7yA/company-logo_100_100/0/1640110531895?e=2147483647&v=beta&t=_hJTtPCUXWkojfBu5oXxeQ13fZnHgc5doXdP3Uv56T8', 'grade': '4.0', 'activities_and_societies': None}, {'starts_at': {'day': 1, 'month': 1, 'year': 2014}, 'ends_at': {'day': 31, 'month': 12, 'year': 2019}, 'field_of_study': 'Electrical and Computer Engineering', 'degree_name': 'B.Sc. & M.Sc.', 'school': 'Democritus University of Thrace', 'school_linkedin_profile_url': None, 'description': 'o\\t300 ECTS (65 Courses)\\no\\tGrade: 8.85/10 “Excellent”\\no\\tSpecialization: Electronic and Information Systems\\no\\tSpecialization Grade: 9.74/10 (23 Courses, 81 ECTS)\\no\\tThesis topic: Automated speaker diarization and recognition in videos\\no\\tThesis Grade: 10/10\\no\\tSecond among the graduating year (Salutatorian)\\n\\nElectrical and Computer Engineering in Democritus University of Thrace is a 5-year joint BSc & MSc  degree with a diploma thesis in the final semester.\\n\\n*Based on WES Course by Course Evaluation*\\n\\nGPA: 3.7/4 (65 Courses and Thesis)\\nSpecialization GPA: 3.97/4 (23 Specialization Courses and Thesis)\\nTotal University Semester Credits: 213.5\\n            \\n\\n    \\n    \\n\\n    \\n        Show less', 'logo_url': None, 'grade': '8.85/10 (3.7/4)', 'activities_and_societies': None}], 'languages': ['English', 'Greek'], 'accomplishment_organisations': [{'starts_at': {'day': 1, 'month': 10, 'year': 2018}, 'ends_at': {'day': 30, 'month': 11, 'year': 2019}, 'org_name': 'Democritus Machine Learning Group', 'title': 'Co-Founder', 'description': None}], 'accomplishment_publications': [], 'accomplishment_honors_awards': [], 'accomplishment_patents': [], 'accomplishment_courses': [], 'accomplishment_projects': [], 'accomplishment_test_scores': [{'name': 'GRE General Test (160/165/4)', 'score': '(160/165/4)', 'date_on': {'day': 1, 'month': 12, 'year': 2019}, 'description': 'Verbal Reasoning:160/170, Quantitative Reasoning: 165/170, Analytical Writing: 4/6'}, {'name': 'IELTS Academic 8.0/9.0', 'score': '8.0/9.0', 'date_on': {'day': 1, 'month': 8, 'year': 2019}, 'description': None}], 'volunteer_work': [], 'certifications': [{'starts_at': {'day': 1, 'month': 1, 'year': 2021}, 'ends_at': None, 'name': 'Mastering data visualization in D3.js [2020 UPDATE]', 'license_number': 'UC-96aa4677-c897-4d11-a8da-54b81357c1fd', 'display_source': 'ude.my', 'authority': 'Udemy', 'url': 'http://ude.my/UC-96aa4677-c897-4d11-a8da-54b81357c1fd'}, {'starts_at': {'day': 1, 'month': 12, 'year': 2020}, 'ends_at': None, 'name': 'Build Responsive Real World Websites with HTML5 and CSS3', 'license_number': 'UC-35bcb944-b4c2-41cf-b188-0387171207fa/', 'display_source': 'ude.my', 'authority': 'Udemy', 'url': 'http://ude.my/UC-35bcb944-b4c2-41cf-b188-0387171207fa/'}, {'starts_at': {'day': 1, 'month': 12, 'year': 2020}, 'ends_at': None, 'name': 'JavaScript (Basic) Certificate', 'license_number': '56a90683dd5b', 'display_source': 'www.hackerrank.com', 'authority': 'HackerRank', 'url': 'https://www.hackerrank.com/certificates/56a90683dd5b'}, {'starts_at': {'day': 1, 'month': 12, 'year': 2020}, 'ends_at': None, 'name': 'Learn and Understand D3.js for Data Visualization', 'license_number': 'UC-9cbe1e72-2bd0-4897-bb06-94a60f40af91', 'display_source': 'ude.my', 'authority': 'Udemy', 'url': 'http://ude.my/UC-9cbe1e72-2bd0-4897-bb06-94a60f40af91'}, {'starts_at': {'day': 1, 'month': 12, 'year': 2020}, 'ends_at': None, 'name': 'The Complete JavaScript Course 2020: From Zero to Expert!', 'license_number': 'UC-4a899925-0ea7-4a96-a0d9-376141404f55', 'display_source': 'ude.my', 'authority': 'Udemy', 'url': 'http://ude.my/UC-4a899925-0ea7-4a96-a0d9-376141404f55'}, {'starts_at': {'day': 1, 'month': 11, 'year': 2020}, 'ends_at': None, 'name': 'Taming Big Data with Apache Spark and Python Hands On', 'license_number': 'UC-3b8968e1-a769-4891-ae63-632fa655ec0a', 'display_source': 'ude.my', 'authority': 'Udemy', 'url': 'http://ude.my/UC-3b8968e1-a769-4891-ae63-632fa655ec0a'}, {'starts_at': {'day': 1, 'month': 10, 'year': 2020}, 'ends_at': None, 'name': 'Big Data Fundamentals with PySpark', 'license_number': '#16385400', 'display_source': 'www.datacamp.com', 'authority': 'DataCamp', 'url': 'https://www.datacamp.com/statement-of-accomplishment/course/78cc04e66b7946c4ac60d31b103625c99ee9f5c3'}, {'starts_at': {'day': 1, 'month': 10, 'year': 2020}, 'ends_at': None, 'name': 'Big Data with PySpark Track', 'license_number': '#182,540', 'display_source': 'www.datacamp.com', 'authority': 'DataCamp', 'url': 'https://www.datacamp.com/statement-of-accomplishment/track/ecfd975078f777e41c883b72a9469da34d7e4818'}, {'starts_at': {'day': 1, 'month': 10, 'year': 2020}, 'ends_at': None, 'name': 'Building Recommendation Engines with PySpark', 'license_number': '#16,519,973', 'display_source': 'www.datacamp.com', 'authority': 'DataCamp', 'url': 'https://www.datacamp.com/statement-of-accomplishment/course/2ad94d759e88eb92829ba3d6f0c5968fe2422004'}, {'starts_at': {'day': 1, 'month': 10, 'year': 2020}, 'ends_at': None, 'name': 'Cleaning Data with PySpark', 'license_number': '#16285371', 'display_source': 'www.datacamp.com', 'authority': 'DataCamp', 'url': 'https://www.datacamp.com/statement-of-accomplishment/course/9aaa1e11b5f888092c646c1d9ab1504ff6cbc790'}, {'starts_at': {'day': 1, 'month': 10, 'year': 2020}, 'ends_at': None, 'name': 'Feature Engineering with PySpark', 'license_number': '#16331817', 'display_source': 'www.datacamp.com', 'authority': 'DataCamp', 'url': 'https://www.datacamp.com/statement-of-accomplishment/course/d3837661b59759819c65cfa5ba8edae9ede5ee48'}, {'starts_at': {'day': 1, 'month': 10, 'year': 2020}, 'ends_at': None, 'name': 'Introduction to PySpark', 'license_number': '#16254462', 'display_source': 'www.datacamp.com', 'authority': 'DataCamp', 'url': 'https://www.datacamp.com/statement-of-accomplishment/course/0416bb36271a3fe5fc64a3099b30a2294e0608c4'}, {'starts_at': {'day': 1, 'month': 10, 'year': 2020}, 'ends_at': None, 'name': 'Machine Learning with PySpark', 'license_number': '#16,462,149', 'display_source': 'www.datacamp.com', 'authority': 'DataCamp', 'url': 'https://www.datacamp.com/statement-of-accomplishment/course/7764459242958126319e46fb418996f70d6e0adf'}, {'starts_at': {'day': 1, 'month': 8, 'year': 2020}, 'ends_at': None, 'name': 'Introduction to Machine Learning with Tensorflow', 'license_number': 'C9TPSEXU', 'display_source': 'confirm.udacity.com', 'authority': 'Udacity', 'url': 'https://confirm.udacity.com/C9TPSEXU'}, {'starts_at': {'day': 1, 'month': 4, 'year': 2020}, 'ends_at': None, 'name': 'Data Analyst Nanodegree', 'license_number': 'RC9PJGKJ', 'display_source': 'confirm.udacity.com', 'authority': 'Udacity', 'url': 'https://confirm.udacity.com/RC9PJGKJ'}, {'starts_at': {'day': 1, 'month': 3, 'year': 2020}, 'ends_at': None, 'name': 'The Complete SQL Bootcamp', 'license_number': 'UC-e31a5458-9c18-45d3-b7ba-9e6d7a99a71e', 'display_source': 'ude.my', 'authority': 'Udemy', 'url': 'http://ude.my/UC-e31a5458-9c18-45d3-b7ba-9e6d7a99a71e'}, {'starts_at': {'day': 1, 'month': 12, 'year': 2019}, 'ends_at': None, 'name': 'Verified International Academic Qualifications', 'license_number': None, 'display_source': 'www.youracclaim.com', 'authority': 'World Education Services', 'url': 'https://www.youracclaim.com/badges/b0e95e44-54f4-4bd9-9e87-c19411b8b764/linked_in_profile'}, {'starts_at': {'day': 1, 'month': 8, 'year': 2019}, 'ends_at': None, 'name': 'Introduction to Machine Learning with Tensorflow', 'license_number': 'C9TPSEXU', 'display_source': 'confirm.udacity.com', 'authority': 'Udacity', 'url': 'https://confirm.udacity.com/C9TPSEXU'}, {'starts_at': {'day': 1, 'month': 3, 'year': 2019}, 'ends_at': None, 'name': 'Introduction to TensorFlow for Artificial Intelligence, Machine Learning, and Deep Learning', 'license_number': 'WC4856Q3H9DA', 'display_source': 'www.coursera.org', 'authority': 'Coursera', 'url': 'https://www.coursera.org/account/accomplishments/verify/WC4856Q3H9DA'}, {'starts_at': {'day': 1, 'month': 2, 'year': 2019}, 'ends_at': None, 'name': 'Extreme Gradient Boosting with XGBoost Course', 'license_number': 'eb8a06526b3c73232f4b804a32fdc56a31ce46a5', 'display_source': 'www.datacamp.com', 'authority': 'DataCamp', 'url': 'https://www.datacamp.com/statement-of-accomplishment/course/eb8a06526b3c73232f4b804a32fdc56a31ce46a5?share=true'}, {'starts_at': {'day': 1, 'month': 1, 'year': 2019}, 'ends_at': None, 'name': 'Deep Learning Fundamentals with Keras', 'license_number': '53540f014d524355a6a3b48c968e34b4', 'display_source': 'courses.edx.org', 'authority': 'edX', 'url': 'https://courses.edx.org/certificates/53540f014d524355a6a3b48c968e34b4'}, {'starts_at': {'day': 1, 'month': 12, 'year': 2018}, 'ends_at': None, 'name': 'Improving Deep Neural Networks: Hyperparameter tuning, Regularization and Optimization', 'license_number': 'LP27DK5J4A3H', 'display_source': 'www.coursera.org', 'authority': 'Coursera', 'url': 'https://www.coursera.org/account/accomplishments/verify/LP27DK5J4A3H'}, {'starts_at': {'day': 1, 'month': 11, 'year': 2018}, 'ends_at': None, 'name': 'Neural Networks and Deep Learning', 'license_number': '9S5BH2893BTK', 'display_source': 'www.coursera.org', 'authority': 'Coursera', 'url': 'https://www.coursera.org/account/accomplishments/verify/9S5BH2893BTK'}, {'starts_at': {'day': 1, 'month': 10, 'year': 2018}, 'ends_at': None, 'name': 'Complete Python Bootcamp: Go from zero to hero in Python 3', 'license_number': 'UC-S015BV8Z', 'display_source': 'ude.my', 'authority': 'Udemy', 'url': 'http://ude.my/UC-S015BV8Z'}, {'starts_at': {'day': 1, 'month': 10, 'year': 2018}, 'ends_at': None, 'name': 'Deep Learning Prerequisites: Linear Regression in Python', 'license_number': 'UC-20U0RZ8M', 'display_source': 'ude.my', 'authority': 'Udemy', 'url': 'http://ude.my/UC-20U0RZ8M'}, {'starts_at': {'day': 1, 'month': 10, 'year': 2018}, 'ends_at': None, 'name': 'Deep Learning Prerequisites: Logistic Regression in Python', 'license_number': 'UC-K179H00H', 'display_source': 'ude.my', 'authority': 'Udemy', 'url': 'http://ude.my/UC-K179H00H'}, {'starts_at': {'day': 1, 'month': 10, 'year': 2018}, 'ends_at': None, 'name': 'Deep Learning Prerequisites: The Numpy Stack in Python', 'license_number': 'UC-CZS4EACT', 'display_source': 'ude.my', 'authority': 'Udemy', 'url': 'http://ude.my/UC-CZS4EACT'}, {'starts_at': {'day': 1, 'month': 3, 'year': 2018}, 'ends_at': None, 'name': 'Assembly Language Adventures: Complete Course', 'license_number': 'UC-DO4C3OM8', 'display_source': 'ude.my', 'authority': 'Udemy', 'url': 'http://ude.my/UC-DO4C3OM8'}, {'starts_at': {'day': 1, 'month': 11, 'year': 2017}, 'ends_at': None, 'name': 'ARM Cortex-M Assembly Programming', 'license_number': 'UC-UOKTZDIZ', 'display_source': 'ude.my', 'authority': 'Udemy', 'url': 'http://ude.my/UC-UOKTZDIZ'}, {'starts_at': {'day': 1, 'month': 9, 'year': 2017}, 'ends_at': None, 'name': 'C++: From Beginner to Expert', 'license_number': 'UC-D8ID3UU5', 'display_source': 'ude.my', 'authority': 'Udemy', 'url': 'http://UDE.MY/UC-D8ID3UU5'}, {'starts_at': {'day': 1, 'month': 8, 'year': 2017}, 'ends_at': None, 'name': 'C++ Tutorial for Complete Beginners', 'license_number': 'UC-LKF8RC3Z', 'display_source': 'ude.my', 'authority': 'Udemy', 'url': 'http://ude.my/UC-LKF8RC3Z'}, {'starts_at': {'day': 1, 'month': 8, 'year': 2017}, 'ends_at': None, 'name': 'Learn Advanced C++ Programming', 'license_number': 'UC-AW4SBA6S', 'display_source': 'ude.my', 'authority': 'Udemy', 'url': 'http://ude.my/UC-AW4SBA6S'}, {'starts_at': {'day': 1, 'month': 7, 'year': 2017}, 'ends_at': None, 'name': 'Matlab Programming for Engineers', 'license_number': '10770405', 'display_source': 'www.credential.net', 'authority': 'Coursovie Training Inc.', 'url': 'https://www.credential.net/sfqlzhei'}, {'starts_at': {'day': 1, 'month': 5, 'year': 2022}, 'ends_at': {'day': 31, 'month': 5, 'year': 2025}, 'name': 'AWS Certified Cloud Practitioner', 'license_number': None, 'display_source': 'www.credly.com', 'authority': 'Amazon Web Services (AWS)', 'url': 'https://www.credly.com/badges/2b1bf865-2236-48c1-a7d1-04fd5c2fbb9e'}, {'starts_at': {'day': 1, 'month': 8, 'year': 2019}, 'ends_at': {'day': 31, 'month': 8, 'year': 2021}, 'name': 'IELTS Academic 8.0/9.0', 'license_number': None, 'display_source': None, 'authority': 'IELTS Official', 'url': None}], 'connections': 500, 'people_also_viewed': [{'link': 'https://www.linkedin.com/in/sebastianraschka', 'name': 'Sebastian Raschka, PhD', 'summary': 'Machine learning & AI researcher  •  I share AI research, machine learning and deep learning tidbits, and open source & PyTorch code', 'location': 'Madison, WI'}, {'link': 'https://www.linkedin.com/in/arnoldzhang', 'name': 'Arnold Zhang', 'summary': 'Energy | Data | Sustainability', 'location': 'Atlanta, GA'}, {'link': 'https://www.linkedin.com/in/dimitriadhikary', 'name': 'Dimitri Adhikary', 'summary': 'Senior Data Science Consultant at Ernst & Young | Product Manager Intern at Anheuser Busch InBev | MS in Analytics at Georgia Tech', 'location': 'Atlanta, GA'}, {'link': 'https://www.linkedin.com/in/faizanhasan', 'name': 'Faizan Hasan', 'summary': 'Sr. Backend Engineer - Veo | MS CS - Gatech | Ex Adobe, Amazon', 'location': 'Atlanta, GA'}, {'link': 'https://www.linkedin.com/in/anuragrawall', 'name': 'ANURAG AGRAWAL', 'summary': 'Actively seeking a Data Scientist opportunity| Amazon | Infosys', 'location': 'Atlanta, GA'}, {'link': 'https://www.linkedin.com/in/kenna-franzen-714679194', 'name': 'Kenna Franzen', 'summary': \"Data Scientist | Master's of Data Analytics from Georgia Institute of Technology 2021-2022\", 'location': 'Chicago, IL'}, {'link': 'https://www.linkedin.com/in/jchow10', 'name': 'Jonathan Chow', 'summary': 'MS in Analytics - Georgia Tech | Aspiring Data Scientist', 'location': 'Atlanta, GA'}, {'link': 'https://www.linkedin.com/in/sunil-ravilla', 'name': 'Sunil Ravilla', 'summary': 'Aspiring Data Scientist|MS in Analytics at Georgia Tech| ISRO| IIT Indore| NTU', 'location': 'Atlanta, GA'}, {'link': 'https://www.linkedin.com/in/pzientala', 'name': 'Przemek Zientala', 'summary': \"Incoming Data Scientist II @ Intuit Mailchimp | MS in Analytics @ Georgia Institute of Technology '22 | Ex tech startup co-founder\", 'location': 'San Francisco Bay Area'}, {'link': 'https://www.linkedin.com/in/abhishek-k-gawande', 'name': 'Abhishek Gawande', 'summary': 'Data Scientist at 7-Eleven| MSA Georgia Tech | IIT Kanpur |', 'location': 'Irving, TX'}, {'link': 'https://www.linkedin.com/in/sarah-halverson-14a13519b', 'name': 'Sarah Halverson', 'summary': 'M.S. in Data Analytics at Georgia Tech | Associate Data Scientist at PwC', 'location': 'Atlanta Metropolitan Area'}, {'link': 'https://www.linkedin.com/in/craigaweaver9', 'name': 'Craig Weaver', 'summary': 'Analytics Masters Student with Software Engineering experience and Aspiring Data Scientist', 'location': 'Atlanta, GA'}, {'link': 'https://www.linkedin.com/in/nicholas927', 'name': 'Nicholas Gonzalez', 'summary': 'Associate Data Scientist at The Home Depot | Georgia Tech MS Analytics', 'location': 'Atlanta, GA'}, {'link': 'https://in.linkedin.com/in/itsvishalm', 'name': 'Vishal Malik', 'summary': 'Student at Netaji Subhas Institute of Technology', 'location': 'Delhi, India'}, {'link': 'https://www.linkedin.com/in/lawton-walker-32450816b', 'name': 'Lawton Walker', 'summary': 'Marketing Data Analyst at Carters', 'location': 'Atlanta, GA'}, {'link': 'https://www.linkedin.com/in/karen-allena', 'name': 'Karen Allena', 'summary': 'MS Analytics student in GT | Aspiring Data Analyst', 'location': 'Atlanta, GA'}, {'link': 'https://www.linkedin.com/in/zoe-masood', 'name': 'Zoe Masood', 'summary': \"Data Scientist at Macy's\", 'location': 'Atlanta, GA'}, {'link': 'https://www.linkedin.com/in/christian-anne-clark', 'name': 'Christian Clark', 'summary': 'Analytic Data Scientist at Leidos | Applying creative thinking to solve problems with data', 'location': 'Atlanta, GA'}, {'link': 'https://de.linkedin.com/in/vasileios-chronas-74946a173', 'name': 'Vasileios Chronas', 'summary': 'Data Analyst', 'location': 'Berlin'}, {'link': 'https://gr.linkedin.com/in/george-daniel-kouyoufas-931770152', 'name': 'George Daniel Kouyoufas', 'summary': 'PNOĒ | Strategic Partnership Executive |                                      FT: The Americas’ Fastest-Growing Companies 2023', 'location': 'Athens Metropolitan Area'}], 'recommendations': [], 'activities': [{'title': 'Photo', 'link': 'https://www.linkedin.com/posts/venetis-pallikaras_activity-7065818923996192768-xyew', 'activity_status': 'Shared by Venetis Pallikaras'}, {'title': '📢 Hello everyone! I have recently published a new blog post titled \"Git & GitHub\". Here, you will learn about advanced topics such as…', 'link': 'https://www.linkedin.com/posts/venetis-pallikaras_github-git-machinelearning-activity-7065695306453012480-AOz0', 'activity_status': 'Shared by Venetis Pallikaras'}, {'title': 'Prompt engineering guide by Elvis S. is lit 🔥 It covers all the aspects of prompting like⦿ Introduction to prompt engineering⦿ Different…', 'link': 'https://www.linkedin.com/posts/venetis-pallikaras_llms-prompt-activity-7065406145586192385-3WxW', 'activity_status': 'Shared by Venetis Pallikaras'}, {'title': 'Photo', 'link': 'https://www.linkedin.com/posts/venetis-pallikaras_activity-7065122714042126336-Au2f', 'activity_status': 'Shared by Venetis Pallikaras'}, {'title': 'Reinforcement Learning tends to be more difficult to approach than supervised learning! It is not widely used but it is a great framework for…', 'link': 'https://www.linkedin.com/posts/venetis-pallikaras_machinelearning-datascience-artificialintelligence-activity-7065122651324719104-5mvI', 'activity_status': 'Shared by Venetis Pallikaras'}, {'title': \"Special limited offer and contest below.Weights & Biases just announced we'll be hosting our first Conference in San Francisco on June 7th. This is…\", 'link': 'https://www.linkedin.com/posts/venetis-pallikaras_home-fully-connected-2023-activity-7064831086555475969-UdP2', 'activity_status': 'Shared by Venetis Pallikaras'}, {'title': 'Thank you for inviting me! Glad to be a part of this community.', 'link': 'https://www.linkedin.com/posts/didipkerabat_thank-you-for-inviting-me-glad-to-be-a-part-activity-7064691724551426048-OAKr', 'activity_status': 'Liked by Venetis Pallikaras'}, {'title': 'There are 3 ingredients that pretty much guarantee the failure of any Machine Learning project: having the Data Scientists training models in…', 'link': 'https://www.linkedin.com/posts/venetis-pallikaras_machinelearning-datascience-artificialintelligence-activity-7064052532691525632-4tWs', 'activity_status': 'Shared by Venetis Pallikaras'}, {'title': 'PCA is a tricky concept to grasp.Here is a math-free explanation:Principal Component Analysis (or what is often just shortened to PCA) is a…', 'link': 'https://www.linkedin.com/posts/venetis-pallikaras_datascience-analytics-data-activity-7062590930733686784-SpXV', 'activity_status': 'Shared by Venetis Pallikaras'}, {'title': 'I have been studying and coding lately using OpenAI, Langchain and Pinecone. I have to say, the number of things you can create using them is truly…', 'link': 'https://www.linkedin.com/posts/venetis-pallikaras_i-have-been-studying-and-coding-lately-using-activity-7062590802148876288-gnQE', 'activity_status': 'Posted by Venetis Pallikaras'}, {'title': \"Ever wondered what the best LLM on the Hugging Face Hub is?Introducing the Open LLM Leaderboard 🏆!Using EleutherAI's excellent framework to test…\", 'link': 'https://www.linkedin.com/posts/venetis-pallikaras_ever-wondered-what-the-best-llm-on-the-hugging-activity-7062529546020872192-2_pO', 'activity_status': 'Shared by Venetis Pallikaras'}, {'title': 'We obtained from NAVAL GROUP a new illustration that depicts in details the sensors which will equip the new FDI HN frigate of the Hellenic Navy 🇬🇷…', 'link': 'https://www.linkedin.com/posts/navalnews_greeces-fdi-hn-frigates-naval-group-reveals-activity-7061799643612864512-Ppav', 'activity_status': 'Liked by Venetis Pallikaras'}, {'title': 'Gantry is hosting a generative AI meetup next week, May 16 in SF. Hope to see some of you there! There will be a fun surprise ;)…', 'link': 'https://www.linkedin.com/posts/josh-tobin-4b3b10a9_gaico-summit-516-luma-activity-7062195656609701888-pCWH', 'activity_status': 'Liked by Venetis Pallikaras'}, {'title': 'This is mind-blowing. Now I started to understand more why Geoffrey and other computer scientists are passionately worried about AI advancement…', 'link': 'https://www.linkedin.com/posts/pamewen_evolutions-destiny-human-intelligence-activity-7062253070298038272-9Q1I', 'activity_status': 'Liked by Venetis Pallikaras'}, {'title': 'A few people asked me what I would recommend for those wanting to get into AI today, so I put together a list, organized from introductory to…', 'link': 'https://www.linkedin.com/posts/venetis-pallikaras_machinelearning-mlops-datascience-activity-7061509589858439170-SQiC', 'activity_status': 'Shared by Venetis Pallikaras'}, {'title': \"Part 3 of our Ray + LangChain Series is ready, in this part M Waleed Kadous will show you how to create a Question and Answer system using LLM's and…\", 'link': 'https://www.linkedin.com/posts/venetis-pallikaras_building-a-self-hosted-question-answering-activity-7061491561154383872-i7Fs', 'activity_status': 'Shared by Venetis Pallikaras'}, {'title': 'Fundamental concepts every data engineer should know because they don’t really change- ANSI SQL - distributed compute - OLTP vs OLAP - CAP…', 'link': 'https://www.linkedin.com/posts/eczachly_dataengineering-activity-7061037300851343360-0P56', 'activity_status': 'Liked by Venetis Pallikaras'}], 'similarly_named_profiles': [], 'articles': [], 'groups': [], 'phone_numbers': [], 'social_networking_services': [], 'skills': [], 'inferred_salary': None, 'gender': None, 'birth_date': None, 'industry': None, 'extra': None, 'interests': [], 'personal_emails': [], 'personal_numbers': []}\n"
     ]
    }
   ],
   "source": [
    "info,data = scrape_linkedin_profile(\"https://www.linkedin.com/in/venetis-pallikaras-9b6bb1135/\")\n",
    "print(info)\n",
    "print()\n",
    "print(data)"
   ]
  },
  {
   "cell_type": "code",
   "execution_count": 4,
   "metadata": {},
   "outputs": [
    {
     "name": "stdout",
     "output_type": "stream",
     "text": [
      "couldn't retrieve information-1\n",
      "<PreparedRequest [GET]>\n",
      "<Response [404]>\n"
     ]
    },
    {
     "data": {
      "text/plain": [
       "(None, None)"
      ]
     },
     "execution_count": 4,
     "metadata": {},
     "output_type": "execute_result"
    }
   ],
   "source": [
    "info,data = scrape_linkedin_profile(\"https://www.linkedin.com/in/brokenlinktest/\")\n",
    "info,data "
   ]
  },
  {
   "cell_type": "code",
   "execution_count": 5,
   "metadata": {},
   "outputs": [
    {
     "name": "stdout",
     "output_type": "stream",
     "text": [
      "\n",
      "\n",
      "\u001b[1m> Entering new AgentExecutor chain...\u001b[0m\n",
      "\u001b[32;1m\u001b[1;3mI need to use the tool that can crawl Google for a linkedin profile page to find the URL for Venetis Pallikaras.\n",
      "Action: Crawl Google for linkedin profile page\n",
      "Action Input: \"Venetis Pallikaras linkedin\"\u001b[0m\n",
      "Observation: \u001b[36;1m\u001b[1;3mhttps://www.linkedin.com/in/venetis-pallikaras-9b6bb1135/\u001b[0m\n",
      "Thought:\u001b[32;1m\u001b[1;3mI have found the URL for Venetis Pallikaras' Linkedin profile page.\n",
      "Final Answer: https://www.linkedin.com/in/venetis-pallikaras-9b6bb1135/\u001b[0m\n",
      "\n",
      "\u001b[1m> Finished chain.\u001b[0m\n",
      "result is: https://www.linkedin.com/in/venetis-pallikaras-9b6bb1135/\n"
     ]
    }
   ],
   "source": [
    "res = linkedin_url_lookup(name= \"Venetis Pallikaras\") \n",
    "print(\"result is:\", res)"
   ]
  },
  {
   "cell_type": "code",
   "execution_count": 6,
   "metadata": {},
   "outputs": [
    {
     "name": "stdout",
     "output_type": "stream",
     "text": [
      "\n",
      "\n",
      "\u001b[1m> Entering new AgentExecutor chain...\u001b[0m\n",
      "\u001b[32;1m\u001b[1;3mI need to use the tool Crawl Google for linkedin profile page to find the URL for Venetis Pallikaras' Linkedin profile page.\n",
      "Action: Crawl Google for linkedin profile page\n",
      "Action Input: 'Venetis Pallikaras, Georgia Tech'\u001b[0m\n",
      "Observation: \u001b[36;1m\u001b[1;3mhttps://www.linkedin.com/in/venetis-pallikaras-9b6bb1135/\u001b[0m\n",
      "Thought:\u001b[32;1m\u001b[1;3mI found the URL for Venetis Pallikaras' Linkedin profile page.\n",
      "Final Answer: https://www.linkedin.com/in/venetis-pallikaras-9b6bb1135/\u001b[0m\n",
      "\n",
      "\u001b[1m> Finished chain.\u001b[0m\n",
      "result is: https://www.linkedin.com/in/venetis-pallikaras-9b6bb1135/\n"
     ]
    }
   ],
   "source": [
    "res = linkedin_url_lookup(name= \"Venetis Pallikaras\", occupation = \"Georgia Tech\") \n",
    "print(\"result is:\", res)"
   ]
  },
  {
   "cell_type": "code",
   "execution_count": 7,
   "metadata": {},
   "outputs": [
    {
     "data": {
      "text/plain": [
       "'https://www.linkedin.com/in/venetis-pallikaras-9b6bb1135/'"
      ]
     },
     "execution_count": 7,
     "metadata": {},
     "output_type": "execute_result"
    }
   ],
   "source": [
    "get_linkedin_profile_url(\"Venetis Pallikaras\")"
   ]
  },
  {
   "cell_type": "code",
   "execution_count": null,
   "metadata": {},
   "outputs": [],
   "source": []
  },
  {
   "cell_type": "code",
   "execution_count": 3,
   "metadata": {},
   "outputs": [],
   "source": [
    "summary_template = \"\"\"\n",
    "         given the information about a person from linkedin {information},I want you to create:\n",
    "         1. a short summary\n",
    "         2. two interesting facts about them\n",
    "         \\n\n",
    "     \"\"\"\n",
    "\n",
    "llm = ChatOpenAI(\n",
    "                 temperature=0,\n",
    "                 model_name = \"gpt-3.5-turbo\",\n",
    "                 openai_api_key = key_dict[\"OPENAI_API_KEY\"],\n",
    "                 )\n",
    "\n",
    "summary_prompt_template = PromptTemplate(\n",
    "        input_variables=[\"information\"],\n",
    "        template=summary_template,\n",
    "\n",
    "    )\n",
    "\n",
    "chain = LLMChain(llm=llm, prompt=summary_prompt_template)"
   ]
  },
  {
   "cell_type": "code",
   "execution_count": 2,
   "metadata": {},
   "outputs": [],
   "source": [
    "chain.run(information=info)"
   ]
  },
  {
   "cell_type": "code",
   "execution_count": null,
   "metadata": {},
   "outputs": [],
   "source": []
  },
  {
   "cell_type": "code",
   "execution_count": null,
   "metadata": {},
   "outputs": [],
   "source": []
  },
  {
   "cell_type": "code",
   "execution_count": null,
   "metadata": {},
   "outputs": [],
   "source": []
  },
  {
   "cell_type": "code",
   "execution_count": 22,
   "metadata": {},
   "outputs": [],
   "source": [
    "def qna_linkedin_profile(name=None,occupation=None):\n",
    "    link = linkedin_url_lookup(name= name, occupation = occupation) \n",
    "    print(\"found link is:\", link)    \n",
    "    \n",
    "    linkedin_info,_ = scrape_linkedin_profile(link)\n",
    "\n",
    "    #\n",
    "    summary_template = \"\"\"\n",
    "         given the Linkedin information {linkedin_information} about a person, I want you to create:\n",
    "         1. A short summary about them\n",
    "         2. Three interesting facts about them\n",
    "         3. A topic that may interest them\n",
    "         4. Two creative Ice breakers to open a conversation with them\n",
    "        \\n {format_instructions}\n",
    "     \"\"\"\n",
    "    #format instruction tells the model it needs to follow the pattern thus no need to write it explicitely eg follow this schema\n",
    "\n",
    "    summary_prompt_template = PromptTemplate(\n",
    "        input_variables=[\"linkedin_information\"],\n",
    "        template=summary_template,\n",
    "        partial_variables={ #information that we provide at the beginning, contrary to input_vars which we fill later\n",
    "            \"format_instructions\": person_intel_parser.get_format_instructions()\n",
    "        },\n",
    "    )\n",
    "\n",
    "    llm = ChatOpenAI(temperature=0, model_name=\"gpt-3.5-turbo\",\n",
    "                     openai_api_key = key_dict[\"OPENAI_API_KEY\"],)\n",
    "\n",
    "    chain = LLMChain(llm=llm, prompt=summary_prompt_template)\n",
    "\n",
    "    result = chain.run(linkedin_information=linkedin_info)\n",
    "\n",
    "    #print(\"scehma explanation:\",person_intel_parser.get_format_instructions())\n",
    "    return result, person_intel_parser.parse(result), linkedin_info, person_intel_parser.parse(result).to_dict()\n"
   ]
  },
  {
   "cell_type": "code",
   "execution_count": 23,
   "metadata": {},
   "outputs": [
    {
     "name": "stdout",
     "output_type": "stream",
     "text": [
      "\n",
      "\n",
      "\u001b[1m> Entering new AgentExecutor chain...\u001b[0m\n",
      "\u001b[32;1m\u001b[1;3mI need to use the tool that can crawl Google for a linkedin profile page to find the URL for Venetis Pallikaras.\n",
      "Action: Crawl Google for linkedin profile page\n",
      "Action Input: \"Venetis Pallikaras linkedin\"\u001b[0m\n",
      "Observation: \u001b[36;1m\u001b[1;3mhttps://www.linkedin.com/in/venetis-pallikaras-9b6bb1135/\u001b[0m\n",
      "Thought:\u001b[32;1m\u001b[1;3mI have found the URL for Venetis Pallikaras' Linkedin profile page.\n",
      "Final Answer: https://www.linkedin.com/in/venetis-pallikaras-9b6bb1135/\u001b[0m\n",
      "\n",
      "\u001b[1m> Finished chain.\u001b[0m\n",
      "found link is: https://www.linkedin.com/in/venetis-pallikaras-9b6bb1135/\n"
     ]
    }
   ],
   "source": [
    "raw_answer, parsed_answer, raw_linkedin_info, dict_answer = qna_linkedin_profile(\"Venetis Pallikaras\")"
   ]
  },
  {
   "cell_type": "code",
   "execution_count": 24,
   "metadata": {},
   "outputs": [
    {
     "data": {
      "text/plain": [
       "'{\\n    \"summary\": \"Venetis Pallikaras is a Graduate Teaching Assistant at Georgia Institute of Technology with a focus on Data Science and Machine Learning. He has experience working as an intern at GE and NCSR DEMOKRITOS in Greece.\",\\n    \"facts\": [\\n        \"Venetis has completed multiple courses and certifications in Data Science, Machine Learning, and Programming.\",\\n        \"He is fluent in both English and Greek.\",\\n        \"Venetis has experience working with big data technologies such as PySpark and Apache Spark.\"\\n    ],\\n    \"topics_of_interest\": [\\n        \"Data Science\",\\n        \"Machine Learning\",\\n        \"Big Data Technologies\"\\n    ],\\n    \"ice_breakers\": [\\n        \"What inspired you to pursue a career in Data Science and Machine Learning?\",\\n        \"I noticed you have experience working with PySpark and Apache Spark. What was your experience like working with these technologies?\"\\n    ]\\n}'"
      ]
     },
     "execution_count": 24,
     "metadata": {},
     "output_type": "execute_result"
    }
   ],
   "source": [
    "raw_answer"
   ]
  },
  {
   "cell_type": "code",
   "execution_count": 25,
   "metadata": {},
   "outputs": [
    {
     "data": {
      "text/plain": [
       "PersonIntel(summary='Venetis Pallikaras is a Graduate Teaching Assistant at Georgia Institute of Technology with a focus on Data Science and Machine Learning. He has experience working as an intern at GE and NCSR DEMOKRITOS in Greece.', facts=['Venetis has completed multiple courses and certifications in Data Science, Machine Learning, and Programming.', 'He is fluent in both English and Greek.', 'Venetis has experience working with big data technologies such as PySpark and Apache Spark.'], topics_of_interest=['Data Science', 'Machine Learning', 'Big Data Technologies'], ice_breakers=['What inspired you to pursue a career in Data Science and Machine Learning?', 'I noticed you have experience working with PySpark and Apache Spark. What was your experience like working with these technologies?'])"
      ]
     },
     "execution_count": 25,
     "metadata": {},
     "output_type": "execute_result"
    }
   ],
   "source": [
    "parsed_answer"
   ]
  },
  {
   "cell_type": "code",
   "execution_count": 26,
   "metadata": {},
   "outputs": [
    {
     "data": {
      "text/plain": [
       "utils.output_parsers.PersonIntel"
      ]
     },
     "execution_count": 26,
     "metadata": {},
     "output_type": "execute_result"
    }
   ],
   "source": [
    "type(parsed_answer)"
   ]
  },
  {
   "cell_type": "code",
   "execution_count": 27,
   "metadata": {},
   "outputs": [
    {
     "data": {
      "text/plain": [
       "{'summary': 'Venetis Pallikaras is a Graduate Teaching Assistant at Georgia Institute of Technology with a focus on Data Science and Machine Learning. He has experience working as an intern at GE and NCSR DEMOKRITOS in Greece.',\n",
       " 'facts': ['Venetis has completed multiple courses and certifications in Data Science, Machine Learning, and Programming.',\n",
       "  'He is fluent in both English and Greek.',\n",
       "  'Venetis has experience working with big data technologies such as PySpark and Apache Spark.'],\n",
       " 'topics_of_interest': ['Data Science',\n",
       "  'Machine Learning',\n",
       "  'Big Data Technologies'],\n",
       " 'ice_breakers': ['What inspired you to pursue a career in Data Science and Machine Learning?',\n",
       "  'I noticed you have experience working with PySpark and Apache Spark. What was your experience like working with these technologies?']}"
      ]
     },
     "execution_count": 27,
     "metadata": {},
     "output_type": "execute_result"
    }
   ],
   "source": [
    "parsed_answer.to_dict()"
   ]
  },
  {
   "cell_type": "code",
   "execution_count": 28,
   "metadata": {},
   "outputs": [
    {
     "data": {
      "text/plain": [
       "{'public_identifier': 'venetis-pallikaras',\n",
       " 'first_name': 'Venetis',\n",
       " 'last_name': 'Pallikaras',\n",
       " 'occupation': 'Graduate Teaching Assistant at Georgia Institute of Technology',\n",
       " 'headline': 'Data Science | Machine Learning',\n",
       " 'summary': 'no info',\n",
       " 'country_full_name': 'United States of America',\n",
       " 'city': 'Washington DC-Baltimore Area',\n",
       " 'experiences': [{'starts_at': {'day': 1, 'month': 8, 'year': 2022},\n",
       "   'ends_at': None,\n",
       "   'company': 'Georgia Institute of Technology',\n",
       "   'title': 'Graduate Teaching Assistant',\n",
       "   'description': 'GTA for the course CS 7641-Machine Learning',\n",
       "   'location': 'Atlanta, Georgia, United States'},\n",
       "  {'starts_at': {'day': 1, 'month': 5, 'year': 2022},\n",
       "   'ends_at': {'day': 31, 'month': 8, 'year': 2022},\n",
       "   'company': 'GE',\n",
       "   'title': 'Intern',\n",
       "   'description': 'Summer Practicum',\n",
       "   'location': 'Virtual'},\n",
       "  {'starts_at': {'day': 1, 'month': 7, 'year': 2018},\n",
       "   'ends_at': {'day': 30, 'month': 9, 'year': 2018},\n",
       "   'company': 'NCSR \"DEMOKRITOS\"\\u200b',\n",
       "   'title': 'Intern',\n",
       "   'description': '•\\tIntern in Institute of Nanoscience and Nanotechnology\\n•\\tElectrical characterization of memristive devices (memristors)\\n•\\tAnalyzed the behavior of memristors during consecutive read and write tests\\n•\\tExecuted retention measurements of memristors\\n•\\tAnalyzed the behavior of memristors under various temperatures\\n•\\tAnalyzed the analog behavior of memristors',\n",
       "   'location': 'Athens, Greece'}],\n",
       " 'languages': ['English', 'Greek'],\n",
       " 'accomplishment_courses': 'no info',\n",
       " 'accomplishment_projects': 'no info',\n",
       " 'volunteer_work': 'no info',\n",
       " 'certifications': [{'name': 'Mastering data visualization in D3.js [2020 UPDATE]',\n",
       "   'authority': 'Udemy'},\n",
       "  {'name': 'Build Responsive Real World Websites with HTML5 and CSS3',\n",
       "   'authority': 'Udemy'},\n",
       "  {'name': 'JavaScript (Basic) Certificate', 'authority': 'HackerRank'},\n",
       "  {'name': 'Learn and Understand D3.js for Data Visualization',\n",
       "   'authority': 'Udemy'},\n",
       "  {'name': 'The Complete JavaScript Course 2020: From Zero to Expert!',\n",
       "   'authority': 'Udemy'},\n",
       "  {'name': 'Taming Big Data with Apache Spark and Python Hands On',\n",
       "   'authority': 'Udemy'},\n",
       "  {'name': 'Big Data Fundamentals with PySpark', 'authority': 'DataCamp'},\n",
       "  {'name': 'Big Data with PySpark Track', 'authority': 'DataCamp'},\n",
       "  {'name': 'Building Recommendation Engines with PySpark',\n",
       "   'authority': 'DataCamp'},\n",
       "  {'name': 'Cleaning Data with PySpark', 'authority': 'DataCamp'},\n",
       "  {'name': 'Feature Engineering with PySpark', 'authority': 'DataCamp'},\n",
       "  {'name': 'Introduction to PySpark', 'authority': 'DataCamp'},\n",
       "  {'name': 'Machine Learning with PySpark', 'authority': 'DataCamp'},\n",
       "  {'name': 'Introduction to Machine Learning with Tensorflow',\n",
       "   'authority': 'Udacity'},\n",
       "  {'name': 'Data Analyst Nanodegree', 'authority': 'Udacity'},\n",
       "  {'name': 'The Complete SQL Bootcamp', 'authority': 'Udemy'},\n",
       "  {'name': 'Verified International Academic Qualifications',\n",
       "   'authority': 'World Education Services'},\n",
       "  {'name': 'Introduction to Machine Learning with Tensorflow',\n",
       "   'authority': 'Udacity'},\n",
       "  {'name': 'Introduction to TensorFlow for Artificial Intelligence, Machine Learning, and Deep Learning',\n",
       "   'authority': 'Coursera'},\n",
       "  {'name': 'Extreme Gradient Boosting with XGBoost Course',\n",
       "   'authority': 'DataCamp'},\n",
       "  {'name': 'Deep Learning Fundamentals with Keras', 'authority': 'edX'},\n",
       "  {'name': 'Improving Deep Neural Networks: Hyperparameter tuning, Regularization and Optimization',\n",
       "   'authority': 'Coursera'},\n",
       "  {'name': 'Neural Networks and Deep Learning', 'authority': 'Coursera'},\n",
       "  {'name': 'Complete Python Bootcamp: Go from zero to hero in Python 3',\n",
       "   'authority': 'Udemy'},\n",
       "  {'name': 'Deep Learning Prerequisites: Linear Regression in Python',\n",
       "   'authority': 'Udemy'},\n",
       "  {'name': 'Deep Learning Prerequisites: Logistic Regression in Python',\n",
       "   'authority': 'Udemy'},\n",
       "  {'name': 'Deep Learning Prerequisites: The Numpy Stack in Python',\n",
       "   'authority': 'Udemy'},\n",
       "  {'name': 'Assembly Language Adventures: Complete Course',\n",
       "   'authority': 'Udemy'},\n",
       "  {'name': 'ARM Cortex-M Assembly Programming', 'authority': 'Udemy'},\n",
       "  {'name': 'C++: From Beginner to Expert', 'authority': 'Udemy'},\n",
       "  {'name': 'C++ Tutorial for Complete Beginners', 'authority': 'Udemy'},\n",
       "  {'name': 'Learn Advanced C++ Programming', 'authority': 'Udemy'},\n",
       "  {'name': 'Matlab Programming for Engineers',\n",
       "   'authority': 'Coursovie Training Inc.'},\n",
       "  {'name': 'AWS Certified Cloud Practitioner',\n",
       "   'authority': 'Amazon Web Services (AWS)'},\n",
       "  {'name': 'IELTS Academic 8.0/9.0', 'authority': 'IELTS Official'}],\n",
       " 'phone_numbers': 'no info',\n",
       " 'personal_emails': 'no info',\n",
       " 'skills': 'no info'}"
      ]
     },
     "execution_count": 28,
     "metadata": {},
     "output_type": "execute_result"
    }
   ],
   "source": [
    "raw_linkedin_info"
   ]
  },
  {
   "cell_type": "code",
   "execution_count": 29,
   "metadata": {},
   "outputs": [
    {
     "data": {
      "text/plain": [
       "{'summary': 'Venetis Pallikaras is a Graduate Teaching Assistant at Georgia Institute of Technology with a focus on Data Science and Machine Learning. He has experience working as an intern at GE and NCSR DEMOKRITOS in Greece.',\n",
       " 'facts': ['Venetis has completed multiple courses and certifications in Data Science, Machine Learning, and Programming.',\n",
       "  'He is fluent in both English and Greek.',\n",
       "  'Venetis has experience working with big data technologies such as PySpark and Apache Spark.'],\n",
       " 'topics_of_interest': ['Data Science',\n",
       "  'Machine Learning',\n",
       "  'Big Data Technologies'],\n",
       " 'ice_breakers': ['What inspired you to pursue a career in Data Science and Machine Learning?',\n",
       "  'I noticed you have experience working with PySpark and Apache Spark. What was your experience like working with these technologies?']}"
      ]
     },
     "execution_count": 29,
     "metadata": {},
     "output_type": "execute_result"
    }
   ],
   "source": [
    "dict_answer"
   ]
  },
  {
   "cell_type": "code",
   "execution_count": null,
   "metadata": {},
   "outputs": [],
   "source": []
  }
 ],
 "metadata": {
  "kernelspec": {
   "display_name": "nlp_pip",
   "language": "python",
   "name": "python3"
  },
  "language_info": {
   "codemirror_mode": {
    "name": "ipython",
    "version": 3
   },
   "file_extension": ".py",
   "mimetype": "text/x-python",
   "name": "python",
   "nbconvert_exporter": "python",
   "pygments_lexer": "ipython3",
   "version": "3.11.3"
  },
  "orig_nbformat": 4
 },
 "nbformat": 4,
 "nbformat_minor": 2
}
