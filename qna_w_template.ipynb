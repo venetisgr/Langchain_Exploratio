{
 "cells": [
  {
   "cell_type": "code",
   "execution_count": 9,
   "metadata": {},
   "outputs": [
    {
     "data": {
      "text/plain": [
       "['OPENAI_API_KEY', 'PINECONE_API_KEY', 'PINECONE_API_ENV', 'PROXYCURL_API_KEY']"
      ]
     },
     "execution_count": 9,
     "metadata": {},
     "output_type": "execute_result"
    }
   ],
   "source": [
    "from langchain import PromptTemplate\n",
    "from langchain.chat_models import ChatOpenAI\n",
    "from langchain.chains import LLMChain\n",
    "\n",
    "\n",
    "from key_storage import key_dict\n",
    "list(key_dict.keys())"
   ]
  },
  {
   "cell_type": "code",
   "execution_count": 10,
   "metadata": {},
   "outputs": [],
   "source": [
    "#create a template\n",
    "\n",
    "question_template = \"\"\"\n",
    "Given the user input {inp} which is a country name, I want you to do the following:\n",
    "1. find the capital of the country he mentioned\n",
    "2. mention an important historical event for that country\n",
    "If you don't know the answer, say you don't know\n",
    "\"\"\"\n",
    "\n",
    "qna_template = PromptTemplate(\n",
    "    input_variables=[\"inp\"],\n",
    "    template = question_template,\n",
    ")"
   ]
  },
  {
   "cell_type": "code",
   "execution_count": 11,
   "metadata": {},
   "outputs": [],
   "source": [
    "#initialize model and chain\n",
    "\n",
    "llm = ChatOpenAI(\n",
    "                 temperature=0,\n",
    "                 model_name = \"gpt-3.5-turbo\",\n",
    "                 openai_api_key = key_dict[\"OPENAI_API_KEY\"],\n",
    "                 )\n",
    "\n",
    "chain = LLMChain(llm=llm,prompt=qna_template)"
   ]
  },
  {
   "cell_type": "code",
   "execution_count": 12,
   "metadata": {},
   "outputs": [
    {
     "name": "stdout",
     "output_type": "stream",
     "text": [
      "1. The capital of Greece is Athens.\n",
      "2. An important historical event for Greece is the Battle of Marathon in 490 BC, where the Athenians defeated the Persian army and secured their independence.\n"
     ]
    }
   ],
   "source": [
    "#querry our model\n",
    "print(chain.run(inp=\"Greece\"))"
   ]
  },
  {
   "cell_type": "code",
   "execution_count": 13,
   "metadata": {},
   "outputs": [
    {
     "name": "stdout",
     "output_type": "stream",
     "text": [
      "Athens is not a country name, it is the capital city of Greece. The capital of Greece is Athens. An important historical event for Greece is the invention of democracy in Athens in the 5th century BCE.\n"
     ]
    }
   ],
   "source": [
    "#querry our model\n",
    "print(chain.run(inp=\"Athens\"))"
   ]
  },
  {
   "cell_type": "code",
   "execution_count": 14,
   "metadata": {},
   "outputs": [
    {
     "name": "stdout",
     "output_type": "stream",
     "text": [
      "I'm sorry, but Coruscant is not a real country. It is a fictional planet in the Star Wars universe. Therefore, it does not have a capital or a historical event.\n"
     ]
    }
   ],
   "source": [
    "#querry our model\n",
    "print(chain.run(inp=\"Corucant\"))"
   ]
  },
  {
   "cell_type": "code",
   "execution_count": 15,
   "metadata": {},
   "outputs": [
    {
     "name": "stdout",
     "output_type": "stream",
     "text": [
      "I'm sorry, \"What is life\" is not a valid country name. Can you please provide a valid country name for me to answer your question?\n"
     ]
    }
   ],
   "source": [
    "#querry our model\n",
    "print(chain.run(inp=\"What is life\"))"
   ]
  },
  {
   "cell_type": "code",
   "execution_count": null,
   "metadata": {},
   "outputs": [],
   "source": []
  },
  {
   "cell_type": "code",
   "execution_count": null,
   "metadata": {},
   "outputs": [],
   "source": []
  }
 ],
 "metadata": {
  "kernelspec": {
   "display_name": "nlp_pip",
   "language": "python",
   "name": "python3"
  },
  "language_info": {
   "codemirror_mode": {
    "name": "ipython",
    "version": 3
   },
   "file_extension": ".py",
   "mimetype": "text/x-python",
   "name": "python",
   "nbconvert_exporter": "python",
   "pygments_lexer": "ipython3",
   "version": "3.11.3"
  },
  "orig_nbformat": 4,
  "vscode": {
   "interpreter": {
    "hash": "545057d0e0fb664f02640aee3f491b7ea6f6b679bc8ffb80575d5ca419864dd2"
   }
  }
 },
 "nbformat": 4,
 "nbformat_minor": 2
}
