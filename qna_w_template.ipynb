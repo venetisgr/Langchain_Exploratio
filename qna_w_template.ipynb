{
 "cells": [
  {
   "cell_type": "code",
   "execution_count": 13,
   "metadata": {},
   "outputs": [
    {
     "data": {
      "text/plain": [
       "['OPENAI_API_KEY', 'PINECONE_API_KEY', 'PINECONE_API_ENV']"
      ]
     },
     "execution_count": 13,
     "metadata": {},
     "output_type": "execute_result"
    }
   ],
   "source": [
    "from langchain import PromptTemplate\n",
    "from langchain.chat_models import ChatOpenAI\n",
    "from langchain.chains import LLMChain\n",
    "\n",
    "from key_storage import key_dict\n",
    "list(key_dict.keys())"
   ]
  },
  {
   "cell_type": "code",
   "execution_count": 14,
   "metadata": {},
   "outputs": [],
   "source": [
    "#create a template\n",
    "\n",
    "question_template = \"\"\"\n",
    "Given the user input {inp} which is a country name, I want you to do the following:\n",
    "1. find the capital of the country he mentioned\n",
    "2. mention an important historical event for that country\n",
    "If you don't know the answer, say you don't know\n",
    "\"\"\"\n",
    "\n",
    "qna_template = PromptTemplate(\n",
    "    input_variables=[\"inp\"],\n",
    "    template = question_template,\n",
    ")"
   ]
  },
  {
   "cell_type": "code",
   "execution_count": 15,
   "metadata": {},
   "outputs": [],
   "source": [
    "#initialize model and chain\n",
    "\n",
    "llm = ChatOpenAI(\n",
    "                 temperature=0,\n",
    "                 model_name = \"gpt-3.5-turbo\",\n",
    "                 openai_api_key = key_dict[\"OPENAI_API_KEY\"],\n",
    "                 )\n",
    "\n",
    "chain = LLMChain(llm=llm,prompt=qna_template)"
   ]
  },
  {
   "cell_type": "code",
   "execution_count": 16,
   "metadata": {},
   "outputs": [
    {
     "name": "stdout",
     "output_type": "stream",
     "text": [
      "1. The capital of Greece is Athens.\n",
      "2. An important historical event for Greece is the Battle of Marathon in 490 BC, where the Athenians defeated the Persians and secured their independence.\n"
     ]
    }
   ],
   "source": [
    "#querry our model\n",
    "print(chain.run(inp=\"Greece\"))"
   ]
  },
  {
   "cell_type": "code",
   "execution_count": 17,
   "metadata": {},
   "outputs": [
    {
     "name": "stdout",
     "output_type": "stream",
     "text": [
      "I'm sorry, but Coruscant is not a real country. It is a fictional planet in the Star Wars universe. Therefore, it does not have a capital or a historical event.\n"
     ]
    }
   ],
   "source": [
    "#querry our model\n",
    "print(chain.run(inp=\"Corucant\"))"
   ]
  },
  {
   "cell_type": "code",
   "execution_count": null,
   "metadata": {},
   "outputs": [],
   "source": []
  },
  {
   "cell_type": "code",
   "execution_count": null,
   "metadata": {},
   "outputs": [],
   "source": []
  },
  {
   "cell_type": "code",
   "execution_count": null,
   "metadata": {},
   "outputs": [],
   "source": []
  }
 ],
 "metadata": {
  "kernelspec": {
   "display_name": ".venv",
   "language": "python",
   "name": "python3"
  },
  "language_info": {
   "codemirror_mode": {
    "name": "ipython",
    "version": 3
   },
   "file_extension": ".py",
   "mimetype": "text/x-python",
   "name": "python",
   "nbconvert_exporter": "python",
   "pygments_lexer": "ipython3",
   "version": "3.11.3"
  },
  "orig_nbformat": 4
 },
 "nbformat": 4,
 "nbformat_minor": 2
}
